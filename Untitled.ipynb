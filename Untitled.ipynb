{
 "cells": [
  {
   "cell_type": "code",
   "execution_count": null,
   "id": "28a13ef4",
   "metadata": {},
   "outputs": [
    {
     "name": "stdout",
     "output_type": "stream",
     "text": [
      "Serving HTTP on port 9090 ...\n",
      "GET / HTTP/1.1\n",
      "Host: localhost:9090\n",
      "Connection: keep-alive\n",
      "Cache-Control: max-age=0\n",
      "Upgrade-Insecure-Requests: 1\n",
      "User-Agent: Mozilla/5.0 (Macintosh; Intel Mac OS X 10_15_7) AppleWebKit/537.36 (KHTML, like Gecko) Chrome/100.0.4896.127 Safari/537.36\n",
      "Accept: text/html,application/xhtml+xml,application/xml;q=0.9,image/avif,image/webp,image/apng,*/*;q=0.8,application/signed-exchange;v=b3;q=0.9\n",
      "Sec-GPC: 1\n",
      "Sec-Fetch-Site: cross-site\n",
      "Sec-Fetch-Mode: navigate\n",
      "Sec-Fetch-Dest: document\n",
      "Accept-Encoding: gzip, deflate, br\n",
      "Accept-Language: ko-KR,ko;q=0.9,en-US;q=0.8,en;q=0.7\n",
      "\n",
      "\n",
      "GET /favicon.ico HTTP/1.1\n",
      "Host: localhost:9090\n",
      "Connection: keep-alive\n",
      "User-Agent: Mozilla/5.0 (Macintosh; Intel Mac OS X 10_15_7) AppleWebKit/537.36 (KHTML, like Gecko) Chrome/100.0.4896.127 Safari/537.36\n",
      "Accept: image/avif,image/webp,image/apng,image/svg+xml,image/*,*/*;q=0.8\n",
      "Sec-GPC: 1\n",
      "Sec-Fetch-Site: same-origin\n",
      "Sec-Fetch-Mode: no-cors\n",
      "Sec-Fetch-Dest: image\n",
      "Referer: http://localhost:9090/\n",
      "Accept-Encoding: gzip, deflate, br\n",
      "Accept-Language: ko-KR,ko;q=0.9,en-US;q=0.8,en;q=0.7\n",
      "\n",
      "\n",
      "GET / HTTP/1.1\n",
      "Host: localhost:9090\n",
      "Accept: text/html,application/xhtml+xml,application/xml;q=0.9,*/*;q=0.8\n",
      "Upgrade-Insecure-Requests: 1\n",
      "Cookie: username-localhost-8899=\"2|1:0|10:1654831906|23:username-localhost-8899|44:MzQ2ODI2ZTVmYmI0NDgyNTg3NWIxNWFhZWZjMjQzZjU=|382800717a38bf5753783f432c3cb47f0bddc9c539e681b96cab4ba3bab39092\"; username-localhost-8883=\"2|1:0|10:1654831897|23:username-localhost-8883|44:ZGQ1ZWRlYmY5Mzg0NGE5MzhkM2YzNTQ4ZWFlOWQ4YWQ=|d9a9699691a65cb597566361693efa87cd3ffeab8e04b9cb15ae620021edbfad\"; _xsrf=2|5c6934e7|f5620d05cbce7b2692bbd45befc5a733|1654831766; username-localhost-8892=\"2|1:0|10:1654523430|23:username-localhost-8892|44:OWNiYjBmMzQ4YzdlNDQ0NGFhMWNiNDhjZTM0MTU3MWE=|8772017093e0c3ce9f1d86d5eaafe4cfad8b8ec74441aef6809342c6997dbc4d\"; username-localhost-8891=\"2|1:0|10:1653649830|23:username-localhost-8891|44:ZDE5YjQ1MTdkYzFlNDdmZmExYWVlOWViOWFiYjQyYmQ=|11d66b64c38c63bc09a40f47351b5f6abd14e17ed6a92a0a727b86f4b8089966\"; username-localhost-8890=\"2|1:0|10:1653226016|23:username-localhos\n",
      "GET /favicon.ico HTTP/1.1\n",
      "Host: localhost:9090\n",
      "Accept: */*\n",
      "Connection: keep-alive\n",
      "Cookie: username-localhost-8899=\"2|1:0|10:1654831906|23:username-localhost-8899|44:MzQ2ODI2ZTVmYmI0NDgyNTg3NWIxNWFhZWZjMjQzZjU=|382800717a38bf5753783f432c3cb47f0bddc9c539e681b96cab4ba3bab39092\"; username-localhost-8883=\"2|1:0|10:1654831897|23:username-localhost-8883|44:ZGQ1ZWRlYmY5Mzg0NGE5MzhkM2YzNTQ4ZWFlOWQ4YWQ=|d9a9699691a65cb597566361693efa87cd3ffeab8e04b9cb15ae620021edbfad\"; _xsrf=2|5c6934e7|f5620d05cbce7b2692bbd45befc5a733|1654831766; username-localhost-8892=\"2|1:0|10:1654523430|23:username-localhost-8892|44:OWNiYjBmMzQ4YzdlNDQ0NGFhMWNiNDhjZTM0MTU3MWE=|8772017093e0c3ce9f1d86d5eaafe4cfad8b8ec74441aef6809342c6997dbc4d\"; username-localhost-8891=\"2|1:0|10:1653649830|23:username-localhost-8891|44:ZDE5YjQ1MTdkYzFlNDdmZmExYWVlOWViOWFiYjQyYmQ=|11d66b64c38c63bc09a40f47351b5f6abd14e17ed6a92a0a727b86f4b8089966\"; username-localhost-8890=\"2|1:0|10:1653226016|23:username-localhost-8890|44:ZWM0NGNhNThjMTJiNDgxNTk2ODQ4MGZmNDBkYzBjNDc=|\n"
     ]
    }
   ],
   "source": [
    "import socket\n",
    "\n",
    "HOST, PORT = '', 9090\n",
    "\n",
    "listen_socket = socket.socket(socket.AF_INET, socket.SOCK_STREAM)\n",
    "listen_socket.setsockopt(socket.SOL_SOCKET, socket.SO_REUSEADDR, 1)\n",
    "listen_socket.bind((HOST, PORT))\n",
    "listen_socket.listen(1)\n",
    "print ('Serving HTTP on port', PORT, '...')\n",
    "while True:\n",
    "    client_connection, client_address = listen_socket.accept()\n",
    "    request = str(client_connection.recv(1024),'utf-8')\n",
    "    print (request)\n",
    "\n",
    "    http_response = \"HTTP/1.1 200 OK\\n\\n\"\n",
    "    file = open('html6.html','r+b')\n",
    "    client_connection.sendall(bytes(http_response, 'utf-8'))\n",
    "    client_connection.sendfile(file)\n",
    "    file.close()\n",
    "    client_connection.close()"
   ]
  },
  {
   "cell_type": "code",
   "execution_count": null,
   "id": "ce9a1dc6",
   "metadata": {},
   "outputs": [],
   "source": [
    "from http.server import SimpleHTTPRequestHandler, HTTPServer\n",
    " \n",
    "port = 8090\n",
    "server_address = ('', port)\n",
    "httpd = HTTPServer(server_address, SimpleHTTPRequestHandler)\n",
    "print(\"Starting simple_httpd on port: \" + str(httpd.server_port))\n",
    "httpd.serve_forever()"
   ]
  },
  {
   "cell_type": "code",
   "execution_count": null,
   "id": "38ff24f5",
   "metadata": {},
   "outputs": [],
   "source": []
  }
 ],
 "metadata": {
  "kernelspec": {
   "display_name": "Python 3 (ipykernel)",
   "language": "python",
   "name": "python3"
  },
  "language_info": {
   "codemirror_mode": {
    "name": "ipython",
    "version": 3
   },
   "file_extension": ".py",
   "mimetype": "text/x-python",
   "name": "python",
   "nbconvert_exporter": "python",
   "pygments_lexer": "ipython3",
   "version": "3.9.7"
  }
 },
 "nbformat": 4,
 "nbformat_minor": 5
}
