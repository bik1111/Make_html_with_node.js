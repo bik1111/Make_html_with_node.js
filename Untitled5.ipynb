{
 "cells": [
  {
   "cell_type": "code",
   "execution_count": null,
   "id": "dc2af956",
   "metadata": {},
   "outputs": [
    {
     "name": "stdout",
     "output_type": "stream",
     "text": [
      "Starting simple_httpd on port: 8095\n",
      "{}\n",
      "do_get\n",
      "{}\n",
      "do_get\n"
     ]
    },
    {
     "name": "stderr",
     "output_type": "stream",
     "text": [
      "127.0.0.1 - - [20/Jun/2022 15:19:30] \"GET / HTTP/1.1\" 200 -\n",
      "127.0.0.1 - - [20/Jun/2022 15:19:30] code 404, message File not found\n",
      "127.0.0.1 - - [20/Jun/2022 15:19:30] \"GET /favicon.ico HTTP/1.1\" 404 -\n"
     ]
    },
    {
     "name": "stdout",
     "output_type": "stream",
     "text": [
      "{}\n",
      "do_get\n",
      "{}\n",
      "do_get\n"
     ]
    },
    {
     "name": "stderr",
     "output_type": "stream",
     "text": [
      "127.0.0.1 - - [20/Jun/2022 15:19:39] \"GET /formsInput.html HTTP/1.1\" 200 -\n",
      "127.0.0.1 - - [20/Jun/2022 15:19:39] \"GET /basic.css HTTP/1.1\" 200 -\n"
     ]
    },
    {
     "name": "stdout",
     "output_type": "stream",
     "text": [
      "{'firstname': ['jung'], 'lastname': ['jinchoel'], 'password': ['abcdef'], 'food': ['Tacos']}\n",
      "do_get\n"
     ]
    },
    {
     "name": "stderr",
     "output_type": "stream",
     "text": [
      "127.0.0.1 - - [20/Jun/2022 15:19:51] \"GET /formsInput.html?firstname=jung&lastname=jinchoel&password=abcdef&food=Tacos HTTP/1.1\" 200 -\n"
     ]
    }
   ],
   "source": [
    "# Name: httpserver3.py\n",
    "# Client: http://localhost:8095\n",
    "\n",
    "from http.server import HTTPServer, SimpleHTTPRequestHandler\n",
    "from urllib.parse import parse_qs, urlparse #qs = query string \n",
    "\n",
    "class testHTTPServer_RequestHandler(SimpleHTTPRequestHandler):\n",
    "\n",
    "    def do_GET(self):\n",
    "        url = self.path\n",
    "        form = parse_qs(urlparse(url).query)\n",
    "        print(form)\n",
    "\n",
    "        super().do_GET()\n",
    "        print(\"do_get\")\n",
    "\n",
    "port = 8095 \n",
    "httpd = HTTPServer(('', port), testHTTPServer_RequestHandler)\n",
    "print(\"Starting simple_httpd on port: \" + str(httpd.server_port))\n",
    "httpd.serve_forever()"
   ]
  },
  {
   "cell_type": "code",
   "execution_count": null,
   "id": "da531899",
   "metadata": {},
   "outputs": [],
   "source": []
  }
 ],
 "metadata": {
  "kernelspec": {
   "display_name": "Python 3 (ipykernel)",
   "language": "python",
   "name": "python3"
  },
  "language_info": {
   "codemirror_mode": {
    "name": "ipython",
    "version": 3
   },
   "file_extension": ".py",
   "mimetype": "text/x-python",
   "name": "python",
   "nbconvert_exporter": "python",
   "pygments_lexer": "ipython3",
   "version": "3.9.7"
  }
 },
 "nbformat": 4,
 "nbformat_minor": 5
}
