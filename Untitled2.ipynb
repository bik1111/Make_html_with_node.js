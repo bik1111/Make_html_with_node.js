{
 "cells": [
  {
   "cell_type": "code",
   "execution_count": null,
   "id": "81d4cb15",
   "metadata": {},
   "outputs": [
    {
     "name": "stdout",
     "output_type": "stream",
     "text": [
      "Starting simple_httpd on port: 8096\n"
     ]
    },
    {
     "name": "stderr",
     "output_type": "stream",
     "text": [
      "127.0.0.1 - - [20/Jun/2022 14:59:40] \"GET / HTTP/1.1\" 200 -\n",
      "127.0.0.1 - - [20/Jun/2022 14:59:40] code 404, message File not found\n",
      "127.0.0.1 - - [20/Jun/2022 14:59:40] \"GET /favicon.ico HTTP/1.1\" 404 -\n"
     ]
    },
    {
     "name": "stdout",
     "output_type": "stream",
     "text": [
      "do_get\n",
      "do_get\n"
     ]
    },
    {
     "name": "stderr",
     "output_type": "stream",
     "text": [
      "127.0.0.1 - - [20/Jun/2022 15:06:04] \"GET / HTTP/1.1\" 200 -\n"
     ]
    },
    {
     "name": "stdout",
     "output_type": "stream",
     "text": [
      "do_get\n"
     ]
    },
    {
     "name": "stderr",
     "output_type": "stream",
     "text": [
      "127.0.0.1 - - [20/Jun/2022 15:06:05] \"GET /formsInput.html HTTP/1.1\" 200 -\n",
      "127.0.0.1 - - [20/Jun/2022 15:06:05] \"GET /basic.css HTTP/1.1\" 200 -\n"
     ]
    },
    {
     "name": "stdout",
     "output_type": "stream",
     "text": [
      "do_get\n",
      "do_get\n"
     ]
    }
   ],
   "source": [
    "from http.server import HTTPServer, SimpleHTTPRequestHandler\n",
    "\n",
    "class testHTTPServer_RequestHandler(SimpleHTTPRequestHandler): # SimpleHTTPRequstHandler를  상속받아 새로운 클래스로 만들어 수정해서 사용\n",
    "    def do_GET(self): #SimpleHTTPRequest의 내장된 함수를 override\n",
    "        super().do_GET()\n",
    "        print(\"do_get\") #do_GET 함수가 불릴때마다 do_get 을 프린트\n",
    "        \n",
    "port = 8096\n",
    "httpd = HTTPServer(('', port), testHTTPServer_RequestHandler)\n",
    "print(\"Starting simple_httpd on port: \" + str(httpd.server_port))\n",
    "httpd.serve_forever()"
   ]
  },
  {
   "cell_type": "code",
   "execution_count": null,
   "id": "d4a1f4d0",
   "metadata": {},
   "outputs": [],
   "source": []
  }
 ],
 "metadata": {
  "kernelspec": {
   "display_name": "Python 3 (ipykernel)",
   "language": "python",
   "name": "python3"
  },
  "language_info": {
   "codemirror_mode": {
    "name": "ipython",
    "version": 3
   },
   "file_extension": ".py",
   "mimetype": "text/x-python",
   "name": "python",
   "nbconvert_exporter": "python",
   "pygments_lexer": "ipython3",
   "version": "3.9.7"
  }
 },
 "nbformat": 4,
 "nbformat_minor": 5
}
