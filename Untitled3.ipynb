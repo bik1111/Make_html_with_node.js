{
 "cells": [
  {
   "cell_type": "code",
   "execution_count": null,
   "id": "6b2d4ec7",
   "metadata": {},
   "outputs": [],
   "source": [
    "from http.server import HTTPServer, SimpleHTTPRequestHandler\n",
    "\n",
    "class testHTTPServer_RequestHandler(SimpleHTTPRequestHandler): # SimpleHTTPRequstHandler를  상속받아 새로운 클래스로 만들어 수정해서 사용\n",
    "    def do_GET(self): #SimpleHTTPRequest의 내장된 함수를 override\n",
    "        \n",
    "        super().do_GET()\n",
    "        print(\"do_get\") #do_GET 함수가 불릴때마다 do_get 을 프린트\n",
    "        \n",
    "port = 8096\n",
    "httpd = HTTPServer(('', port), testHTTPServer_RequestHandler)\n",
    "print(\"Starting simple_httpd on port: \" + str(httpd.server_port))\n",
    "httpd.serve_forever()"
   ]
  }
 ],
 "metadata": {
  "kernelspec": {
   "display_name": "Python 3 (ipykernel)",
   "language": "python",
   "name": "python3"
  },
  "language_info": {
   "codemirror_mode": {
    "name": "ipython",
    "version": 3
   },
   "file_extension": ".py",
   "mimetype": "text/x-python",
   "name": "python",
   "nbconvert_exporter": "python",
   "pygments_lexer": "ipython3",
   "version": "3.9.7"
  }
 },
 "nbformat": 4,
 "nbformat_minor": 5
}
