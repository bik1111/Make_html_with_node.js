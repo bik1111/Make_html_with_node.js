{
 "cells": [
  {
   "cell_type": "code",
   "execution_count": null,
   "id": "15664858",
   "metadata": {},
   "outputs": [
    {
     "name": "stdout",
     "output_type": "stream",
     "text": [
      "Starting simple_httpd on port: 9095\n",
      "** / **\n",
      "do_get\n",
      "** /favicon.ico **\n",
      "do_get\n"
     ]
    },
    {
     "name": "stderr",
     "output_type": "stream",
     "text": [
      "127.0.0.1 - - [20/Jun/2022 15:25:39] \"GET / HTTP/1.1\" 200 -\n",
      "127.0.0.1 - - [20/Jun/2022 15:25:39] code 404, message File not found\n",
      "127.0.0.1 - - [20/Jun/2022 15:25:39] \"GET /favicon.ico HTTP/1.1\" 404 -\n"
     ]
    },
    {
     "name": "stdout",
     "output_type": "stream",
     "text": [
      "** /formsInput.html **\n",
      "do_get\n",
      "** /basic.css **\n",
      "do_get\n"
     ]
    },
    {
     "name": "stderr",
     "output_type": "stream",
     "text": [
      "127.0.0.1 - - [20/Jun/2022 15:33:34] \"GET /formsInput.html HTTP/1.1\" 200 -\n",
      "127.0.0.1 - - [20/Jun/2022 15:33:34] \"GET /basic.css HTTP/1.1\" 200 -\n"
     ]
    },
    {
     "name": "stdout",
     "output_type": "stream",
     "text": [
      "** /formsInput.html?firstname=jung&lastname=jinchoel&password=1234&food=Tacos **\n",
      "jung, go to TacoBell tonight!\n",
      "do_get\n"
     ]
    },
    {
     "name": "stderr",
     "output_type": "stream",
     "text": [
      "127.0.0.1 - - [20/Jun/2022 15:33:42] \"GET /formsInput.html?firstname=jung&lastname=jinchoel&password=1234&food=Tacos HTTP/1.1\" 200 -\n"
     ]
    }
   ],
   "source": [
    "from http.server import HTTPServer, SimpleHTTPRequestHandler\n",
    "from urllib.parse import parse_qs, urlparse\n",
    "\n",
    "class testHTTPServer_RequestHandler(SimpleHTTPRequestHandler):\n",
    "\n",
    "    def do_GET(self):\n",
    "        url = self.path\n",
    "        form = parse_qs(urlparse(url).query)\n",
    "        print(\"**\", url, \"**\")\n",
    "        if (form != {}):\n",
    "            self.process_form(form)\n",
    "        super().do_GET()\n",
    "        print(\"do_get\")\n",
    "\n",
    "    def process_form(self,form):\n",
    "        if 'food' in form:\n",
    "            if form['food'][0] == 'Pizza':\n",
    "                print(form['firstname'][0] + \", call Dominos tonight!\")\n",
    "            elif form['food'][0] == 'Tacos':\n",
    "                print(form['firstname'][0] + \", go to TacoBell tonight!\")\n",
    "            elif form['food'][0] == 'Salad':\n",
    "                print(form['firstname'][0] + \", have a Caesar Salad tonight!\")\n",
    "\n",
    "port = 9095 \n",
    "httpd = HTTPServer(('', port), testHTTPServer_RequestHandler)\n",
    "print(\"Starting simple_httpd on port: \" + str(httpd.server_port))\n",
    "httpd.serve_forever()"
   ]
  },
  {
   "cell_type": "code",
   "execution_count": null,
   "id": "42ff5f7e",
   "metadata": {},
   "outputs": [],
   "source": []
  }
 ],
 "metadata": {
  "kernelspec": {
   "display_name": "Python 3 (ipykernel)",
   "language": "python",
   "name": "python3"
  },
  "language_info": {
   "codemirror_mode": {
    "name": "ipython",
    "version": 3
   },
   "file_extension": ".py",
   "mimetype": "text/x-python",
   "name": "python",
   "nbconvert_exporter": "python",
   "pygments_lexer": "ipython3",
   "version": "3.9.7"
  }
 },
 "nbformat": 4,
 "nbformat_minor": 5
}
