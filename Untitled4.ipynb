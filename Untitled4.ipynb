{
 "cells": [
  {
   "cell_type": "code",
   "execution_count": null,
   "id": "a2f49f8f",
   "metadata": {},
   "outputs": [
    {
     "name": "stdout",
     "output_type": "stream",
     "text": [
      "Starting simple_httpd on port: 8097\n"
     ]
    },
    {
     "name": "stderr",
     "output_type": "stream",
     "text": [
      "127.0.0.1 - - [20/Jun/2022 15:10:09] \"GET / HTTP/1.1\" 200 -\n",
      "127.0.0.1 - - [20/Jun/2022 15:10:09] code 404, message File not found\n",
      "127.0.0.1 - - [20/Jun/2022 15:10:09] \"GET /favicon.ico HTTP/1.1\" 404 -\n"
     ]
    },
    {
     "name": "stdout",
     "output_type": "stream",
     "text": [
      "do_get\n",
      "/\n",
      "do_get\n",
      "/favicon.ico\n"
     ]
    },
    {
     "name": "stderr",
     "output_type": "stream",
     "text": [
      "127.0.0.1 - - [20/Jun/2022 15:10:13] \"GET /formsInput.html HTTP/1.1\" 200 -\n",
      "127.0.0.1 - - [20/Jun/2022 15:10:13] \"GET /basic.css HTTP/1.1\" 200 -\n"
     ]
    },
    {
     "name": "stdout",
     "output_type": "stream",
     "text": [
      "do_get\n",
      "/formsInput.html\n",
      "do_get\n",
      "/basic.css\n"
     ]
    },
    {
     "name": "stderr",
     "output_type": "stream",
     "text": [
      "127.0.0.1 - - [20/Jun/2022 15:10:48] \"GET /formsInput.html?firstname=jung&lastname=jin&password=1234&food=Pizza HTTP/1.1\" 200 -\n"
     ]
    },
    {
     "name": "stdout",
     "output_type": "stream",
     "text": [
      "do_get\n",
      "/formsInput.html?firstname=jung&lastname=jin&password=1234&food=Pizza\n"
     ]
    }
   ],
   "source": [
    "from http.server import HTTPServer, SimpleHTTPRequestHandler\n",
    "\n",
    "class testHTTPServer_RequestHandler(SimpleHTTPRequestHandler): # SimpleHTTPRequstHandler를  상속받아 새로운 클래스로 만들어 수정해서 사용\n",
    "    def do_GET(self): #SimpleHTTPRequest의 내장된 함수를 override\n",
    "        super().do_GET()\n",
    "        print(\"do_get\") #do_GET 함수가 불릴때마다 do_get 을 프린트\n",
    "        print(self.path)\n",
    "        \n",
    "port = 8097\n",
    "httpd = HTTPServer(('', port), testHTTPServer_RequestHandler)\n",
    "print(\"Starting simple_httpd on port: \" + str(httpd.server_port))\n",
    "httpd.serve_forever()"
   ]
  },
  {
   "cell_type": "code",
   "execution_count": null,
   "id": "6835489e",
   "metadata": {},
   "outputs": [],
   "source": []
  }
 ],
 "metadata": {
  "kernelspec": {
   "display_name": "Python 3 (ipykernel)",
   "language": "python",
   "name": "python3"
  },
  "language_info": {
   "codemirror_mode": {
    "name": "ipython",
    "version": 3
   },
   "file_extension": ".py",
   "mimetype": "text/x-python",
   "name": "python",
   "nbconvert_exporter": "python",
   "pygments_lexer": "ipython3",
   "version": "3.9.7"
  }
 },
 "nbformat": 4,
 "nbformat_minor": 5
}
